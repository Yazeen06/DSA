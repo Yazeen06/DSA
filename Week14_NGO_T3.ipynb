{
 "cells": [
  {
   "cell_type": "markdown",
   "id": "4ef4fe3c",
   "metadata": {},
   "source": [
    "HELP International is an international humanitarian NGO that is committed to \n",
    "fighting poverty and providing the people of backward countries with basic \n",
    "amenities and relief during the time of disasters and natural calamities. After \n",
    "the recent project that included a lot of awareness drives and funding \n",
    "programmes, they have been able to raise around $ 10 million. The significant \n",
    "issues that come while making this decision are mostly related to choosing the \n",
    "countries that are in the direst need of aid.\n",
    "How will you help this NGO to make a correct decision based on socio\u0002economic and health factors"
   ]
  },
  {
   "cell_type": "code",
   "execution_count": 1,
   "id": "d8935961",
   "metadata": {},
   "outputs": [],
   "source": [
    "import numpy as np\n",
    "import pandas as pd\n",
    "import seaborn as sns\n",
    "import matplotlib.pyplot as plt"
   ]
  },
  {
   "cell_type": "code",
   "execution_count": 2,
   "id": "bbe71b9e",
   "metadata": {},
   "outputs": [
    {
     "data": {
      "text/html": [
       "<div>\n",
       "<style scoped>\n",
       "    .dataframe tbody tr th:only-of-type {\n",
       "        vertical-align: middle;\n",
       "    }\n",
       "\n",
       "    .dataframe tbody tr th {\n",
       "        vertical-align: top;\n",
       "    }\n",
       "\n",
       "    .dataframe thead th {\n",
       "        text-align: right;\n",
       "    }\n",
       "</style>\n",
       "<table border=\"1\" class=\"dataframe\">\n",
       "  <thead>\n",
       "    <tr style=\"text-align: right;\">\n",
       "      <th></th>\n",
       "      <th>country</th>\n",
       "      <th>child_mort</th>\n",
       "      <th>exports</th>\n",
       "      <th>health</th>\n",
       "      <th>imports</th>\n",
       "      <th>income</th>\n",
       "      <th>inflation</th>\n",
       "      <th>life_expec</th>\n",
       "      <th>total_fer</th>\n",
       "      <th>gdpp</th>\n",
       "    </tr>\n",
       "  </thead>\n",
       "  <tbody>\n",
       "    <tr>\n",
       "      <th>0</th>\n",
       "      <td>Afghanistan</td>\n",
       "      <td>90.2</td>\n",
       "      <td>10.0</td>\n",
       "      <td>7.58</td>\n",
       "      <td>44.9</td>\n",
       "      <td>1610</td>\n",
       "      <td>9.44</td>\n",
       "      <td>56.2</td>\n",
       "      <td>5.82</td>\n",
       "      <td>553</td>\n",
       "    </tr>\n",
       "    <tr>\n",
       "      <th>1</th>\n",
       "      <td>Albania</td>\n",
       "      <td>16.6</td>\n",
       "      <td>28.0</td>\n",
       "      <td>6.55</td>\n",
       "      <td>48.6</td>\n",
       "      <td>9930</td>\n",
       "      <td>4.49</td>\n",
       "      <td>76.3</td>\n",
       "      <td>1.65</td>\n",
       "      <td>4090</td>\n",
       "    </tr>\n",
       "    <tr>\n",
       "      <th>2</th>\n",
       "      <td>Algeria</td>\n",
       "      <td>27.3</td>\n",
       "      <td>38.4</td>\n",
       "      <td>4.17</td>\n",
       "      <td>31.4</td>\n",
       "      <td>12900</td>\n",
       "      <td>16.10</td>\n",
       "      <td>76.5</td>\n",
       "      <td>2.89</td>\n",
       "      <td>4460</td>\n",
       "    </tr>\n",
       "    <tr>\n",
       "      <th>3</th>\n",
       "      <td>Angola</td>\n",
       "      <td>119.0</td>\n",
       "      <td>62.3</td>\n",
       "      <td>2.85</td>\n",
       "      <td>42.9</td>\n",
       "      <td>5900</td>\n",
       "      <td>22.40</td>\n",
       "      <td>60.1</td>\n",
       "      <td>6.16</td>\n",
       "      <td>3530</td>\n",
       "    </tr>\n",
       "    <tr>\n",
       "      <th>4</th>\n",
       "      <td>Antigua and Barbuda</td>\n",
       "      <td>10.3</td>\n",
       "      <td>45.5</td>\n",
       "      <td>6.03</td>\n",
       "      <td>58.9</td>\n",
       "      <td>19100</td>\n",
       "      <td>1.44</td>\n",
       "      <td>76.8</td>\n",
       "      <td>2.13</td>\n",
       "      <td>12200</td>\n",
       "    </tr>\n",
       "  </tbody>\n",
       "</table>\n",
       "</div>"
      ],
      "text/plain": [
       "               country  child_mort  exports  health  imports  income  \\\n",
       "0          Afghanistan        90.2     10.0    7.58     44.9    1610   \n",
       "1              Albania        16.6     28.0    6.55     48.6    9930   \n",
       "2              Algeria        27.3     38.4    4.17     31.4   12900   \n",
       "3               Angola       119.0     62.3    2.85     42.9    5900   \n",
       "4  Antigua and Barbuda        10.3     45.5    6.03     58.9   19100   \n",
       "\n",
       "   inflation  life_expec  total_fer   gdpp  \n",
       "0       9.44        56.2       5.82    553  \n",
       "1       4.49        76.3       1.65   4090  \n",
       "2      16.10        76.5       2.89   4460  \n",
       "3      22.40        60.1       6.16   3530  \n",
       "4       1.44        76.8       2.13  12200  "
      ]
     },
     "execution_count": 2,
     "metadata": {},
     "output_type": "execute_result"
    }
   ],
   "source": [
    "data = pd.read_csv(\"E:\\ICTAK-DSA\\Country-data.csv\")\n",
    "data.head()"
   ]
  },
  {
   "cell_type": "markdown",
   "id": "ebdc2419",
   "metadata": {},
   "source": [
    "Initial level of investigation on dataset"
   ]
  },
  {
   "cell_type": "code",
   "execution_count": 4,
   "id": "0e8e3ed2",
   "metadata": {},
   "outputs": [
    {
     "data": {
      "text/plain": [
       "(167, 10)"
      ]
     },
     "execution_count": 4,
     "metadata": {},
     "output_type": "execute_result"
    }
   ],
   "source": [
    "data.shape #dimensions of the data"
   ]
  },
  {
   "cell_type": "code",
   "execution_count": 5,
   "id": "f0d5c591",
   "metadata": {},
   "outputs": [
    {
     "data": {
      "text/plain": [
       "Index(['country', 'child_mort', 'exports', 'health', 'imports', 'income',\n",
       "       'inflation', 'life_expec', 'total_fer', 'gdpp'],\n",
       "      dtype='object')"
      ]
     },
     "execution_count": 5,
     "metadata": {},
     "output_type": "execute_result"
    }
   ],
   "source": [
    "data.columns #print the columns/features of the data"
   ]
  },
  {
   "cell_type": "code",
   "execution_count": 6,
   "id": "32ef3808",
   "metadata": {},
   "outputs": [
    {
     "data": {
      "text/html": [
       "<div>\n",
       "<style scoped>\n",
       "    .dataframe tbody tr th:only-of-type {\n",
       "        vertical-align: middle;\n",
       "    }\n",
       "\n",
       "    .dataframe tbody tr th {\n",
       "        vertical-align: top;\n",
       "    }\n",
       "\n",
       "    .dataframe thead th {\n",
       "        text-align: right;\n",
       "    }\n",
       "</style>\n",
       "<table border=\"1\" class=\"dataframe\">\n",
       "  <thead>\n",
       "    <tr style=\"text-align: right;\">\n",
       "      <th></th>\n",
       "      <th>child_mort</th>\n",
       "      <th>exports</th>\n",
       "      <th>health</th>\n",
       "      <th>imports</th>\n",
       "      <th>income</th>\n",
       "      <th>inflation</th>\n",
       "      <th>life_expec</th>\n",
       "      <th>total_fer</th>\n",
       "      <th>gdpp</th>\n",
       "    </tr>\n",
       "  </thead>\n",
       "  <tbody>\n",
       "    <tr>\n",
       "      <th>count</th>\n",
       "      <td>167.000000</td>\n",
       "      <td>167.000000</td>\n",
       "      <td>167.000000</td>\n",
       "      <td>167.000000</td>\n",
       "      <td>167.000000</td>\n",
       "      <td>167.000000</td>\n",
       "      <td>167.000000</td>\n",
       "      <td>167.000000</td>\n",
       "      <td>167.000000</td>\n",
       "    </tr>\n",
       "    <tr>\n",
       "      <th>mean</th>\n",
       "      <td>38.270060</td>\n",
       "      <td>41.108976</td>\n",
       "      <td>6.815689</td>\n",
       "      <td>46.890215</td>\n",
       "      <td>17144.688623</td>\n",
       "      <td>7.781832</td>\n",
       "      <td>70.555689</td>\n",
       "      <td>2.947964</td>\n",
       "      <td>12964.155689</td>\n",
       "    </tr>\n",
       "    <tr>\n",
       "      <th>std</th>\n",
       "      <td>40.328931</td>\n",
       "      <td>27.412010</td>\n",
       "      <td>2.746837</td>\n",
       "      <td>24.209589</td>\n",
       "      <td>19278.067698</td>\n",
       "      <td>10.570704</td>\n",
       "      <td>8.893172</td>\n",
       "      <td>1.513848</td>\n",
       "      <td>18328.704809</td>\n",
       "    </tr>\n",
       "    <tr>\n",
       "      <th>min</th>\n",
       "      <td>2.600000</td>\n",
       "      <td>0.109000</td>\n",
       "      <td>1.810000</td>\n",
       "      <td>0.065900</td>\n",
       "      <td>609.000000</td>\n",
       "      <td>-4.210000</td>\n",
       "      <td>32.100000</td>\n",
       "      <td>1.150000</td>\n",
       "      <td>231.000000</td>\n",
       "    </tr>\n",
       "    <tr>\n",
       "      <th>25%</th>\n",
       "      <td>8.250000</td>\n",
       "      <td>23.800000</td>\n",
       "      <td>4.920000</td>\n",
       "      <td>30.200000</td>\n",
       "      <td>3355.000000</td>\n",
       "      <td>1.810000</td>\n",
       "      <td>65.300000</td>\n",
       "      <td>1.795000</td>\n",
       "      <td>1330.000000</td>\n",
       "    </tr>\n",
       "    <tr>\n",
       "      <th>50%</th>\n",
       "      <td>19.300000</td>\n",
       "      <td>35.000000</td>\n",
       "      <td>6.320000</td>\n",
       "      <td>43.300000</td>\n",
       "      <td>9960.000000</td>\n",
       "      <td>5.390000</td>\n",
       "      <td>73.100000</td>\n",
       "      <td>2.410000</td>\n",
       "      <td>4660.000000</td>\n",
       "    </tr>\n",
       "    <tr>\n",
       "      <th>75%</th>\n",
       "      <td>62.100000</td>\n",
       "      <td>51.350000</td>\n",
       "      <td>8.600000</td>\n",
       "      <td>58.750000</td>\n",
       "      <td>22800.000000</td>\n",
       "      <td>10.750000</td>\n",
       "      <td>76.800000</td>\n",
       "      <td>3.880000</td>\n",
       "      <td>14050.000000</td>\n",
       "    </tr>\n",
       "    <tr>\n",
       "      <th>max</th>\n",
       "      <td>208.000000</td>\n",
       "      <td>200.000000</td>\n",
       "      <td>17.900000</td>\n",
       "      <td>174.000000</td>\n",
       "      <td>125000.000000</td>\n",
       "      <td>104.000000</td>\n",
       "      <td>82.800000</td>\n",
       "      <td>7.490000</td>\n",
       "      <td>105000.000000</td>\n",
       "    </tr>\n",
       "  </tbody>\n",
       "</table>\n",
       "</div>"
      ],
      "text/plain": [
       "       child_mort     exports      health     imports         income  \\\n",
       "count  167.000000  167.000000  167.000000  167.000000     167.000000   \n",
       "mean    38.270060   41.108976    6.815689   46.890215   17144.688623   \n",
       "std     40.328931   27.412010    2.746837   24.209589   19278.067698   \n",
       "min      2.600000    0.109000    1.810000    0.065900     609.000000   \n",
       "25%      8.250000   23.800000    4.920000   30.200000    3355.000000   \n",
       "50%     19.300000   35.000000    6.320000   43.300000    9960.000000   \n",
       "75%     62.100000   51.350000    8.600000   58.750000   22800.000000   \n",
       "max    208.000000  200.000000   17.900000  174.000000  125000.000000   \n",
       "\n",
       "        inflation  life_expec   total_fer           gdpp  \n",
       "count  167.000000  167.000000  167.000000     167.000000  \n",
       "mean     7.781832   70.555689    2.947964   12964.155689  \n",
       "std     10.570704    8.893172    1.513848   18328.704809  \n",
       "min     -4.210000   32.100000    1.150000     231.000000  \n",
       "25%      1.810000   65.300000    1.795000    1330.000000  \n",
       "50%      5.390000   73.100000    2.410000    4660.000000  \n",
       "75%     10.750000   76.800000    3.880000   14050.000000  \n",
       "max    104.000000   82.800000    7.490000  105000.000000  "
      ]
     },
     "execution_count": 6,
     "metadata": {},
     "output_type": "execute_result"
    }
   ],
   "source": [
    "data.describe() #basic info of the dataset"
   ]
  },
  {
   "cell_type": "code",
   "execution_count": 7,
   "id": "327eba49",
   "metadata": {},
   "outputs": [
    {
     "data": {
      "text/plain": [
       "country       167\n",
       "child_mort    167\n",
       "exports       167\n",
       "health        167\n",
       "imports       167\n",
       "income        167\n",
       "inflation     167\n",
       "life_expec    167\n",
       "total_fer     167\n",
       "gdpp          167\n",
       "dtype: int64"
      ]
     },
     "execution_count": 7,
     "metadata": {},
     "output_type": "execute_result"
    }
   ],
   "source": [
    "data.count() #number of non null values in each column."
   ]
  },
  {
   "cell_type": "code",
   "execution_count": 8,
   "id": "54898b45",
   "metadata": {},
   "outputs": [
    {
     "name": "stdout",
     "output_type": "stream",
     "text": [
      "<class 'pandas.core.frame.DataFrame'>\n",
      "RangeIndex: 167 entries, 0 to 166\n",
      "Data columns (total 10 columns):\n",
      " #   Column      Non-Null Count  Dtype  \n",
      "---  ------      --------------  -----  \n",
      " 0   country     167 non-null    object \n",
      " 1   child_mort  167 non-null    float64\n",
      " 2   exports     167 non-null    float64\n",
      " 3   health      167 non-null    float64\n",
      " 4   imports     167 non-null    float64\n",
      " 5   income      167 non-null    int64  \n",
      " 6   inflation   167 non-null    float64\n",
      " 7   life_expec  167 non-null    float64\n",
      " 8   total_fer   167 non-null    float64\n",
      " 9   gdpp        167 non-null    int64  \n",
      "dtypes: float64(7), int64(2), object(1)\n",
      "memory usage: 13.2+ KB\n"
     ]
    }
   ],
   "source": [
    "data.info() #returns range, column, number of non-null objects of each column, datatype and memory usage."
   ]
  },
  {
   "cell_type": "code",
   "execution_count": 10,
   "id": "f16e455a",
   "metadata": {},
   "outputs": [
    {
     "data": {
      "text/plain": [
       "country       0\n",
       "child_mort    0\n",
       "exports       0\n",
       "health        0\n",
       "imports       0\n",
       "income        0\n",
       "inflation     0\n",
       "life_expec    0\n",
       "total_fer     0\n",
       "gdpp          0\n",
       "dtype: int64"
      ]
     },
     "execution_count": 10,
     "metadata": {},
     "output_type": "execute_result"
    }
   ],
   "source": [
    "data.isna().sum() #print the sum of null values for each columns"
   ]
  },
  {
   "cell_type": "markdown",
   "id": "85228869",
   "metadata": {},
   "source": [
    "'exports', 'health', 'imports' are given in percentage of gdpp. Converting those percentages to absolute values."
   ]
  },
  {
   "cell_type": "code",
   "execution_count": 11,
   "id": "116a42e7",
   "metadata": {},
   "outputs": [],
   "source": [
    "data['imports']=round((data.imports*data.gdpp)/100)\n",
    "data['health']=round((data.health*data.gdpp)/100)\n",
    "data['exports']=round((data.exports*data.gdpp)/100)"
   ]
  },
  {
   "cell_type": "code",
   "execution_count": 12,
   "id": "c97397ca",
   "metadata": {},
   "outputs": [
    {
     "data": {
      "text/html": [
       "<div>\n",
       "<style scoped>\n",
       "    .dataframe tbody tr th:only-of-type {\n",
       "        vertical-align: middle;\n",
       "    }\n",
       "\n",
       "    .dataframe tbody tr th {\n",
       "        vertical-align: top;\n",
       "    }\n",
       "\n",
       "    .dataframe thead th {\n",
       "        text-align: right;\n",
       "    }\n",
       "</style>\n",
       "<table border=\"1\" class=\"dataframe\">\n",
       "  <thead>\n",
       "    <tr style=\"text-align: right;\">\n",
       "      <th></th>\n",
       "      <th>country</th>\n",
       "      <th>child_mort</th>\n",
       "      <th>exports</th>\n",
       "      <th>health</th>\n",
       "      <th>imports</th>\n",
       "      <th>income</th>\n",
       "      <th>inflation</th>\n",
       "      <th>life_expec</th>\n",
       "      <th>total_fer</th>\n",
       "      <th>gdpp</th>\n",
       "    </tr>\n",
       "  </thead>\n",
       "  <tbody>\n",
       "    <tr>\n",
       "      <th>0</th>\n",
       "      <td>Afghanistan</td>\n",
       "      <td>90.2</td>\n",
       "      <td>55.0</td>\n",
       "      <td>42.0</td>\n",
       "      <td>248.0</td>\n",
       "      <td>1610</td>\n",
       "      <td>9.44</td>\n",
       "      <td>56.2</td>\n",
       "      <td>5.82</td>\n",
       "      <td>553</td>\n",
       "    </tr>\n",
       "    <tr>\n",
       "      <th>1</th>\n",
       "      <td>Albania</td>\n",
       "      <td>16.6</td>\n",
       "      <td>1145.0</td>\n",
       "      <td>268.0</td>\n",
       "      <td>1988.0</td>\n",
       "      <td>9930</td>\n",
       "      <td>4.49</td>\n",
       "      <td>76.3</td>\n",
       "      <td>1.65</td>\n",
       "      <td>4090</td>\n",
       "    </tr>\n",
       "    <tr>\n",
       "      <th>2</th>\n",
       "      <td>Algeria</td>\n",
       "      <td>27.3</td>\n",
       "      <td>1713.0</td>\n",
       "      <td>186.0</td>\n",
       "      <td>1400.0</td>\n",
       "      <td>12900</td>\n",
       "      <td>16.10</td>\n",
       "      <td>76.5</td>\n",
       "      <td>2.89</td>\n",
       "      <td>4460</td>\n",
       "    </tr>\n",
       "    <tr>\n",
       "      <th>3</th>\n",
       "      <td>Angola</td>\n",
       "      <td>119.0</td>\n",
       "      <td>2199.0</td>\n",
       "      <td>101.0</td>\n",
       "      <td>1514.0</td>\n",
       "      <td>5900</td>\n",
       "      <td>22.40</td>\n",
       "      <td>60.1</td>\n",
       "      <td>6.16</td>\n",
       "      <td>3530</td>\n",
       "    </tr>\n",
       "    <tr>\n",
       "      <th>4</th>\n",
       "      <td>Antigua and Barbuda</td>\n",
       "      <td>10.3</td>\n",
       "      <td>5551.0</td>\n",
       "      <td>736.0</td>\n",
       "      <td>7186.0</td>\n",
       "      <td>19100</td>\n",
       "      <td>1.44</td>\n",
       "      <td>76.8</td>\n",
       "      <td>2.13</td>\n",
       "      <td>12200</td>\n",
       "    </tr>\n",
       "  </tbody>\n",
       "</table>\n",
       "</div>"
      ],
      "text/plain": [
       "               country  child_mort  exports  health  imports  income  \\\n",
       "0          Afghanistan        90.2     55.0    42.0    248.0    1610   \n",
       "1              Albania        16.6   1145.0   268.0   1988.0    9930   \n",
       "2              Algeria        27.3   1713.0   186.0   1400.0   12900   \n",
       "3               Angola       119.0   2199.0   101.0   1514.0    5900   \n",
       "4  Antigua and Barbuda        10.3   5551.0   736.0   7186.0   19100   \n",
       "\n",
       "   inflation  life_expec  total_fer   gdpp  \n",
       "0       9.44        56.2       5.82    553  \n",
       "1       4.49        76.3       1.65   4090  \n",
       "2      16.10        76.5       2.89   4460  \n",
       "3      22.40        60.1       6.16   3530  \n",
       "4       1.44        76.8       2.13  12200  "
      ]
     },
     "execution_count": 12,
     "metadata": {},
     "output_type": "execute_result"
    }
   ],
   "source": [
    "data.head()"
   ]
  },
  {
   "cell_type": "markdown",
   "id": "d040d8e9",
   "metadata": {},
   "source": [
    "Outlier Detection and Handling"
   ]
  },
  {
   "cell_type": "code",
   "execution_count": 14,
   "id": "928069b8",
   "metadata": {},
   "outputs": [],
   "source": [
    "import warnings\n",
    "warnings.filterwarnings('ignore')"
   ]
  },
  {
   "cell_type": "code",
   "execution_count": 20,
   "id": "6fde8473",
   "metadata": {},
   "outputs": [
    {
     "data": {
      "image/png": "[encoded data removed]",
      "text/plain": [
       "<Figure size 1080x1080 with 9 Axes>"
      ]
     },
     "metadata": {
      "needs_background": "light"
     },
     "output_type": "display_data"
    }
   ],
   "source": [
    "fig, ax = plt.subplots(nrows=3,ncols=3, figsize=(15,15))\n",
    "ax=ax.flatten()\n",
    "int_cols= data.select_dtypes(exclude='object').columns\n",
    "for x, i in enumerate(int_cols):\n",
    "    sns.boxplot(data[i], ax=ax[x])\n",
    "plt.show()"
   ]
  },
  {
   "cell_type": "markdown",
   "id": "74718513",
   "metadata": {},
   "source": [
    "Outliers for features like 'child_mort', 'inflation', 'life_expec', 'total_fer' are at critical socio-economic and health conditions\n",
    "\n",
    "Outliers for exports, imports, health, income features are mostly developed countries with better socio-economic and health conditions than rest"
   ]
  },
  {
   "cell_type": "code",
   "execution_count": 21,
   "id": "62ed1ae3",
   "metadata": {},
   "outputs": [
    {
     "data": {
      "text/html": [
       "<div>\n",
       "<style scoped>\n",
       "    .dataframe tbody tr th:only-of-type {\n",
       "        vertical-align: middle;\n",
       "    }\n",
       "\n",
       "    .dataframe tbody tr th {\n",
       "        vertical-align: top;\n",
       "    }\n",
       "\n",
       "    .dataframe thead th {\n",
       "        text-align: right;\n",
       "    }\n",
       "</style>\n",
       "<table border=\"1\" class=\"dataframe\">\n",
       "  <thead>\n",
       "    <tr style=\"text-align: right;\">\n",
       "      <th></th>\n",
       "      <th>country</th>\n",
       "      <th>child_mort</th>\n",
       "      <th>exports</th>\n",
       "      <th>health</th>\n",
       "      <th>imports</th>\n",
       "      <th>income</th>\n",
       "      <th>inflation</th>\n",
       "      <th>life_expec</th>\n",
       "      <th>total_fer</th>\n",
       "      <th>gdpp</th>\n",
       "    </tr>\n",
       "  </thead>\n",
       "  <tbody>\n",
       "    <tr>\n",
       "      <th>0</th>\n",
       "      <td>Afghanistan</td>\n",
       "      <td>90.2</td>\n",
       "      <td>55.0</td>\n",
       "      <td>42.0</td>\n",
       "      <td>248.0</td>\n",
       "      <td>1610</td>\n",
       "      <td>9.44</td>\n",
       "      <td>56.2</td>\n",
       "      <td>5.82</td>\n",
       "      <td>553</td>\n",
       "    </tr>\n",
       "    <tr>\n",
       "      <th>1</th>\n",
       "      <td>Albania</td>\n",
       "      <td>16.6</td>\n",
       "      <td>1145.0</td>\n",
       "      <td>268.0</td>\n",
       "      <td>1988.0</td>\n",
       "      <td>9930</td>\n",
       "      <td>4.49</td>\n",
       "      <td>76.3</td>\n",
       "      <td>1.65</td>\n",
       "      <td>4090</td>\n",
       "    </tr>\n",
       "    <tr>\n",
       "      <th>2</th>\n",
       "      <td>Algeria</td>\n",
       "      <td>27.3</td>\n",
       "      <td>1713.0</td>\n",
       "      <td>186.0</td>\n",
       "      <td>1400.0</td>\n",
       "      <td>12900</td>\n",
       "      <td>16.10</td>\n",
       "      <td>76.5</td>\n",
       "      <td>2.89</td>\n",
       "      <td>4460</td>\n",
       "    </tr>\n",
       "    <tr>\n",
       "      <th>3</th>\n",
       "      <td>Angola</td>\n",
       "      <td>119.0</td>\n",
       "      <td>2199.0</td>\n",
       "      <td>101.0</td>\n",
       "      <td>1514.0</td>\n",
       "      <td>5900</td>\n",
       "      <td>22.40</td>\n",
       "      <td>60.1</td>\n",
       "      <td>6.16</td>\n",
       "      <td>3530</td>\n",
       "    </tr>\n",
       "    <tr>\n",
       "      <th>4</th>\n",
       "      <td>Antigua and Barbuda</td>\n",
       "      <td>10.3</td>\n",
       "      <td>5551.0</td>\n",
       "      <td>736.0</td>\n",
       "      <td>7186.0</td>\n",
       "      <td>19100</td>\n",
       "      <td>1.44</td>\n",
       "      <td>76.8</td>\n",
       "      <td>2.13</td>\n",
       "      <td>12200</td>\n",
       "    </tr>\n",
       "  </tbody>\n",
       "</table>\n",
       "</div>"
      ],
      "text/plain": [
       "               country  child_mort  exports  health  imports  income  \\\n",
       "0          Afghanistan        90.2     55.0    42.0    248.0    1610   \n",
       "1              Albania        16.6   1145.0   268.0   1988.0    9930   \n",
       "2              Algeria        27.3   1713.0   186.0   1400.0   12900   \n",
       "3               Angola       119.0   2199.0   101.0   1514.0    5900   \n",
       "4  Antigua and Barbuda        10.3   5551.0   736.0   7186.0   19100   \n",
       "\n",
       "   inflation  life_expec  total_fer   gdpp  \n",
       "0       9.44        56.2       5.82    553  \n",
       "1       4.49        76.3       1.65   4090  \n",
       "2      16.10        76.5       2.89   4460  \n",
       "3      22.40        60.1       6.16   3530  \n",
       "4       1.44        76.8       2.13  12200  "
      ]
     },
     "execution_count": 21,
     "metadata": {},
     "output_type": "execute_result"
    }
   ],
   "source": [
    "data1=data.copy()\n",
    "data1.head()"
   ]
  },
  {
   "cell_type": "markdown",
   "id": "e35d9083",
   "metadata": {},
   "source": [
    "Exports"
   ]
  },
  {
   "cell_type": "code",
   "execution_count": 22,
   "id": "738cbe9f",
   "metadata": {},
   "outputs": [],
   "source": [
    "Q1 = data1['exports'].quantile(0.25)\n",
    "Q2 = data1['exports'].quantile(0.50)\n",
    "Q3 = data1['exports'].quantile(0.75)\n",
    "\n",
    "IQR = Q3 - Q1\n",
    "\n",
    "lower_limit = Q1 -(1.5*IQR)\n",
    "upper_limit = Q3 + (1.5*IQR)\n",
    "data1['exports']=np.where(data1['exports']>upper_limit,upper_limit,np.where(data1['exports']<lower_limit,lower_limit,data1['exports']))"
   ]
  },
  {
   "cell_type": "markdown",
   "id": "e97abcf9",
   "metadata": {},
   "source": [
    "Imports"
   ]
  },
  {
   "cell_type": "code",
   "execution_count": 23,
   "id": "df1636f6",
   "metadata": {},
   "outputs": [],
   "source": [
    "Q1 = data1['imports'].quantile(0.25)\n",
    "Q2 = data1['imports'].quantile(0.50)\n",
    "Q3 = data1['imports'].quantile(0.75)\n",
    "\n",
    "IQR = Q3 - Q1\n",
    "\n",
    "lower_limit = Q1 -(1.5*IQR)\n",
    "upper_limit = Q3 + (1.5*IQR)\n",
    "data1['imports']=np.where(data1['imports']>upper_limit,upper_limit,np.where(data1['imports']<lower_limit,lower_limit,data1['imports']))\n"
   ]
  },
  {
   "cell_type": "markdown",
   "id": "5dd6ff8d",
   "metadata": {},
   "source": [
    "Health"
   ]
  },
  {
   "cell_type": "code",
   "execution_count": 24,
   "id": "e62a8840",
   "metadata": {},
   "outputs": [],
   "source": [
    "Q1 = data1['health'].quantile(0.25)\n",
    "Q2 = data1['health'].quantile(0.50)\n",
    "Q3 = data1['health'].quantile(0.75)\n",
    "\n",
    "IQR = Q3 - Q1\n",
    "\n",
    "lower_limit = Q1 -(1.5*IQR)\n",
    "upper_limit = Q3 + (1.5*IQR)\n",
    "data1['health']=np.where(data1['health']>upper_limit,upper_limit,np.where(data1['health']<lower_limit,lower_limit,data1['health']))\n"
   ]
  },
  {
   "cell_type": "code",
   "execution_count": null,
   "id": "a500e29c",
   "metadata": {},
   "outputs": [],
   "source": [
    "Income"
   ]
  },
  {
   "cell_type": "code",
   "execution_count": 26,
   "id": "f83c995a",
   "metadata": {},
   "outputs": [],
   "source": [
    "Q1 = data1['income'].quantile(0.25)\n",
    "Q2 = data1['income'].quantile(0.50)\n",
    "Q3 = data1['income'].quantile(0.75)\n",
    "\n",
    "IQR = Q3 - Q1\n",
    "\n",
    "lower_limit = Q1 -(1.5*IQR)\n",
    "upper_limit = Q3 + (1.5*IQR)\n",
    "data1['income']=np.where(data1['income']>upper_limit,upper_limit,np.where(data1['income']<lower_limit,lower_limit,data1['income']))\n"
   ]
  },
  {
   "cell_type": "code",
   "execution_count": 27,
   "id": "2799c6ee",
   "metadata": {},
   "outputs": [
    {
     "data": {
      "image/png": "[encoded data removed]",
      "text/plain": [
       "<Figure size 1080x1080 with 9 Axes>"
      ]
     },
     "metadata": {
      "needs_background": "light"
     },
     "output_type": "display_data"
    }
   ],
   "source": [
    "fig, ax = plt.subplots(nrows=3,ncols=3, figsize=(15,15))\n",
    "ax=ax.flatten()\n",
    "int_cols= data1.select_dtypes(exclude='object').columns\n",
    "for x, i in enumerate(int_cols):\n",
    "    sns.boxplot(data1[i], ax=ax[x])\n",
    "plt.show()"
   ]
  },
  {
   "cell_type": "markdown",
   "id": "39c80fb3",
   "metadata": {},
   "source": [
    "DataSet Scaling "
   ]
  },
  {
   "cell_type": "code",
   "execution_count": 29,
   "id": "4d738433",
   "metadata": {},
   "outputs": [],
   "source": [
    "from sklearn.preprocessing import StandardScaler\n",
    "scalar = StandardScaler()\n",
    "scaled_data = scalar.fit_transform(data1.iloc[:,1:])"
   ]
  },
  {
   "cell_type": "markdown",
   "id": "468fc4d9",
   "metadata": {},
   "source": [
    "K-Means Clustering"
   ]
  },
  {
   "cell_type": "code",
   "execution_count": 34,
   "id": "d05a02a4",
   "metadata": {},
   "outputs": [
    {
     "name": "stdout",
     "output_type": "stream",
     "text": [
      "[1503.0, 740.6523357173688, 467.35189412132473, 388.40739282260796, 332.0072623778184, 287.7339254795492, 262.01311429882213, 234.58814649187713, 210.04442124853605, 193.65853796547424]\n"
     ]
    }
   ],
   "source": [
    "from sklearn.cluster import KMeans\n",
    "ks=range(1,11)\n",
    "inertia=[]\n",
    "for k in ks:\n",
    "    model=KMeans(n_clusters=k,init=\"k-means++\",random_state=42)\n",
    "    model.fit(scaled_data)\n",
    "    inertia.append(model.inertia_)\n",
    "print(inertia)"
   ]
  },
  {
   "cell_type": "code",
   "execution_count": 36,
   "id": "39944183",
   "metadata": {},
   "outputs": [
    {
     "data": {
      "image/png": "[encoded data removed]",
      "text/plain": [
       "<Figure size 432x288 with 1 Axes>"
      ]
     },
     "metadata": {
      "needs_background": "light"
     },
     "output_type": "display_data"
    }
   ],
   "source": [
    "plt.plot(ks,inertia)\n",
    "plt.title(\"Elbow Method Plot\")\n",
    "plt.xlabel('No of clusters')\n",
    "plt.ylabel('Inertia')\n",
    "plt.show()"
   ]
  },
  {
   "cell_type": "code",
   "execution_count": 55,
   "id": "54559d14",
   "metadata": {},
   "outputs": [
    {
     "name": "stdout",
     "output_type": "stream",
     "text": [
      "[2 0 0 2 0 0 0 1 1 0 1 1 0 0 0 1 0 2 0 0 0 0 0 1 0 2 2 0 2 1 0 2 2 0 0 0 2\n",
      " 2 2 0 2 0 1 1 1 0 0 0 0 2 2 0 0 1 1 2 2 0 1 2 1 0 0 2 2 0 2 0 1 0 0 0 0 1\n",
      " 1 1 0 1 0 0 2 2 1 0 2 0 0 2 2 0 0 1 0 2 2 0 0 2 1 2 0 0 0 0 0 0 2 0 2 0 1\n",
      " 1 2 2 1 1 2 0 0 0 0 0 1 1 0 0 2 0 0 2 0 0 2 1 1 1 2 0 1 1 0 0 2 0 1 1 0 2\n",
      " 0 2 2 0 0 0 0 2 0 1 1 1 0 0 0 0 0 2 2]\n"
     ]
    }
   ],
   "source": [
    "model_kmeans=KMeans(n_clusters=3)\n",
    "model_kmeans.fit(scaled_data)\n",
    "km=model_kmeans.predict(scaled_data)\n",
    "print(model_kmeans.labels_)"
   ]
  },
  {
   "cell_type": "code",
   "execution_count": 57,
   "id": "e7887a3c",
   "metadata": {},
   "outputs": [
    {
     "data": {
      "text/html": [
       "<div>\n",
       "<style scoped>\n",
       "    .dataframe tbody tr th:only-of-type {\n",
       "        vertical-align: middle;\n",
       "    }\n",
       "\n",
       "    .dataframe tbody tr th {\n",
       "        vertical-align: top;\n",
       "    }\n",
       "\n",
       "    .dataframe thead th {\n",
       "        text-align: right;\n",
       "    }\n",
       "</style>\n",
       "<table border=\"1\" class=\"dataframe\">\n",
       "  <thead>\n",
       "    <tr style=\"text-align: right;\">\n",
       "      <th></th>\n",
       "      <th>country</th>\n",
       "      <th>child_mort</th>\n",
       "      <th>exports</th>\n",
       "      <th>health</th>\n",
       "      <th>imports</th>\n",
       "      <th>income</th>\n",
       "      <th>inflation</th>\n",
       "      <th>life_expec</th>\n",
       "      <th>total_fer</th>\n",
       "      <th>gdpp</th>\n",
       "      <th>AHC_ClusterID</th>\n",
       "      <th>KMean_ClusterID</th>\n",
       "    </tr>\n",
       "  </thead>\n",
       "  <tbody>\n",
       "    <tr>\n",
       "      <th>0</th>\n",
       "      <td>Afghanistan</td>\n",
       "      <td>90.2</td>\n",
       "      <td>55.0</td>\n",
       "      <td>42.0</td>\n",
       "      <td>248.0</td>\n",
       "      <td>1610.0</td>\n",
       "      <td>9.44</td>\n",
       "      <td>56.2</td>\n",
       "      <td>5.82</td>\n",
       "      <td>553</td>\n",
       "      <td>0</td>\n",
       "      <td>2</td>\n",
       "    </tr>\n",
       "    <tr>\n",
       "      <th>1</th>\n",
       "      <td>Albania</td>\n",
       "      <td>16.6</td>\n",
       "      <td>1145.0</td>\n",
       "      <td>268.0</td>\n",
       "      <td>1988.0</td>\n",
       "      <td>9930.0</td>\n",
       "      <td>4.49</td>\n",
       "      <td>76.3</td>\n",
       "      <td>1.65</td>\n",
       "      <td>4090</td>\n",
       "      <td>1</td>\n",
       "      <td>0</td>\n",
       "    </tr>\n",
       "    <tr>\n",
       "      <th>2</th>\n",
       "      <td>Algeria</td>\n",
       "      <td>27.3</td>\n",
       "      <td>1713.0</td>\n",
       "      <td>186.0</td>\n",
       "      <td>1400.0</td>\n",
       "      <td>12900.0</td>\n",
       "      <td>16.10</td>\n",
       "      <td>76.5</td>\n",
       "      <td>2.89</td>\n",
       "      <td>4460</td>\n",
       "      <td>1</td>\n",
       "      <td>0</td>\n",
       "    </tr>\n",
       "    <tr>\n",
       "      <th>3</th>\n",
       "      <td>Angola</td>\n",
       "      <td>119.0</td>\n",
       "      <td>2199.0</td>\n",
       "      <td>101.0</td>\n",
       "      <td>1514.0</td>\n",
       "      <td>5900.0</td>\n",
       "      <td>22.40</td>\n",
       "      <td>60.1</td>\n",
       "      <td>6.16</td>\n",
       "      <td>3530</td>\n",
       "      <td>0</td>\n",
       "      <td>2</td>\n",
       "    </tr>\n",
       "    <tr>\n",
       "      <th>4</th>\n",
       "      <td>Antigua and Barbuda</td>\n",
       "      <td>10.3</td>\n",
       "      <td>5551.0</td>\n",
       "      <td>736.0</td>\n",
       "      <td>7186.0</td>\n",
       "      <td>19100.0</td>\n",
       "      <td>1.44</td>\n",
       "      <td>76.8</td>\n",
       "      <td>2.13</td>\n",
       "      <td>12200</td>\n",
       "      <td>1</td>\n",
       "      <td>0</td>\n",
       "    </tr>\n",
       "  </tbody>\n",
       "</table>\n",
       "</div>"
      ],
      "text/plain": [
       "               country  child_mort  exports  health  imports   income  \\\n",
       "0          Afghanistan        90.2     55.0    42.0    248.0   1610.0   \n",
       "1              Albania        16.6   1145.0   268.0   1988.0   9930.0   \n",
       "2              Algeria        27.3   1713.0   186.0   1400.0  12900.0   \n",
       "3               Angola       119.0   2199.0   101.0   1514.0   5900.0   \n",
       "4  Antigua and Barbuda        10.3   5551.0   736.0   7186.0  19100.0   \n",
       "\n",
       "   inflation  life_expec  total_fer   gdpp  AHC_ClusterID  KMean_ClusterID  \n",
       "0       9.44        56.2       5.82    553              0                2  \n",
       "1       4.49        76.3       1.65   4090              1                0  \n",
       "2      16.10        76.5       2.89   4460              1                0  \n",
       "3      22.40        60.1       6.16   3530              0                2  \n",
       "4       1.44        76.8       2.13  12200              1                0  "
      ]
     },
     "execution_count": 57,
     "metadata": {},
     "output_type": "execute_result"
    }
   ],
   "source": [
    "\n",
    "data1['KMean_ClusterID']= pd.Series(km)\n",
    "data1.head()"
   ]
  },
  {
   "cell_type": "markdown",
   "id": "26afc2bc",
   "metadata": {},
   "source": [
    "Agglomerative Heirarchial Clustering"
   ]
  },
  {
   "cell_type": "code",
   "execution_count": 46,
   "id": "723b8527",
   "metadata": {},
   "outputs": [
    {
     "data": {
      "image/png": "[encoded data removed]",
      "text/plain": [
       "<Figure size 576x576 with 1 Axes>"
      ]
     },
     "metadata": {
      "needs_background": "light"
     },
     "output_type": "display_data"
    }
   ],
   "source": [
    "from scipy.cluster.hierarchy import linkage,dendrogram\n",
    "plt.figure(figsize = (8,8))\n",
    "dendro = linkage(scaled_data,method = 'ward')\n",
    "dendrogram(dendro, leaf_rotation = 90, leaf_font_size = 6)\n",
    "plt.hlines(4,0,27000,colors=\"red\",linestyles=\"dashed\")\n",
    "plt.show()"
   ]
  },
  {
   "cell_type": "code",
   "execution_count": 53,
   "id": "8019fe1e",
   "metadata": {},
   "outputs": [
    {
     "name": "stdout",
     "output_type": "stream",
     "text": [
      "[0 1 1 0 1 1 1 2 2 1 2 2 1 1 1 2 1 0 1 1 1 1 1 2 1 0 0 1 0 2 1 0 0 1 1 1 0\n",
      " 0 0 1 0 1 2 2 2 1 1 1 1 0 0 1 1 2 2 0 0 1 2 0 2 1 1 0 0 1 0 1 2 1 1 1 1 2\n",
      " 2 2 1 2 1 1 0 0 2 1 0 1 1 0 0 1 1 2 1 0 0 1 1 0 2 0 1 1 1 1 1 1 0 1 0 1 2\n",
      " 2 0 0 2 2 0 1 1 1 1 1 2 2 1 1 0 1 2 0 1 1 0 2 2 2 0 1 2 2 1 1 0 1 2 2 1 0\n",
      " 1 0 0 1 1 1 1 0 1 2 2 2 1 1 1 1 1 0 0]\n"
     ]
    }
   ],
   "source": [
    "\n",
    "model_kmeans = KMeans(n_clusters=3,max_iter=50,random_state = 50)\n",
    "model_kmeans.fit(scaled_data)\n",
    "labels_sc = model_kmeans.predict(scaled_data)\n",
    "print(labels_sc)"
   ]
  },
  {
   "cell_type": "code",
   "execution_count": 58,
   "id": "8895cde4",
   "metadata": {},
   "outputs": [
    {
     "data": {
      "text/html": [
       "<div>\n",
       "<style scoped>\n",
       "    .dataframe tbody tr th:only-of-type {\n",
       "        vertical-align: middle;\n",
       "    }\n",
       "\n",
       "    .dataframe tbody tr th {\n",
       "        vertical-align: top;\n",
       "    }\n",
       "\n",
       "    .dataframe thead th {\n",
       "        text-align: right;\n",
       "    }\n",
       "</style>\n",
       "<table border=\"1\" class=\"dataframe\">\n",
       "  <thead>\n",
       "    <tr style=\"text-align: right;\">\n",
       "      <th></th>\n",
       "      <th>country</th>\n",
       "      <th>child_mort</th>\n",
       "      <th>exports</th>\n",
       "      <th>health</th>\n",
       "      <th>imports</th>\n",
       "      <th>income</th>\n",
       "      <th>inflation</th>\n",
       "      <th>life_expec</th>\n",
       "      <th>total_fer</th>\n",
       "      <th>gdpp</th>\n",
       "      <th>AHC_ClusterID</th>\n",
       "      <th>KMean_ClusterID</th>\n",
       "    </tr>\n",
       "  </thead>\n",
       "  <tbody>\n",
       "    <tr>\n",
       "      <th>0</th>\n",
       "      <td>Afghanistan</td>\n",
       "      <td>90.2</td>\n",
       "      <td>55.0</td>\n",
       "      <td>42.0</td>\n",
       "      <td>248.0</td>\n",
       "      <td>1610.0</td>\n",
       "      <td>9.44</td>\n",
       "      <td>56.2</td>\n",
       "      <td>5.82</td>\n",
       "      <td>553</td>\n",
       "      <td>0</td>\n",
       "      <td>2</td>\n",
       "    </tr>\n",
       "    <tr>\n",
       "      <th>1</th>\n",
       "      <td>Albania</td>\n",
       "      <td>16.6</td>\n",
       "      <td>1145.0</td>\n",
       "      <td>268.0</td>\n",
       "      <td>1988.0</td>\n",
       "      <td>9930.0</td>\n",
       "      <td>4.49</td>\n",
       "      <td>76.3</td>\n",
       "      <td>1.65</td>\n",
       "      <td>4090</td>\n",
       "      <td>1</td>\n",
       "      <td>0</td>\n",
       "    </tr>\n",
       "    <tr>\n",
       "      <th>2</th>\n",
       "      <td>Algeria</td>\n",
       "      <td>27.3</td>\n",
       "      <td>1713.0</td>\n",
       "      <td>186.0</td>\n",
       "      <td>1400.0</td>\n",
       "      <td>12900.0</td>\n",
       "      <td>16.10</td>\n",
       "      <td>76.5</td>\n",
       "      <td>2.89</td>\n",
       "      <td>4460</td>\n",
       "      <td>1</td>\n",
       "      <td>0</td>\n",
       "    </tr>\n",
       "    <tr>\n",
       "      <th>3</th>\n",
       "      <td>Angola</td>\n",
       "      <td>119.0</td>\n",
       "      <td>2199.0</td>\n",
       "      <td>101.0</td>\n",
       "      <td>1514.0</td>\n",
       "      <td>5900.0</td>\n",
       "      <td>22.40</td>\n",
       "      <td>60.1</td>\n",
       "      <td>6.16</td>\n",
       "      <td>3530</td>\n",
       "      <td>0</td>\n",
       "      <td>2</td>\n",
       "    </tr>\n",
       "    <tr>\n",
       "      <th>4</th>\n",
       "      <td>Antigua and Barbuda</td>\n",
       "      <td>10.3</td>\n",
       "      <td>5551.0</td>\n",
       "      <td>736.0</td>\n",
       "      <td>7186.0</td>\n",
       "      <td>19100.0</td>\n",
       "      <td>1.44</td>\n",
       "      <td>76.8</td>\n",
       "      <td>2.13</td>\n",
       "      <td>12200</td>\n",
       "      <td>1</td>\n",
       "      <td>0</td>\n",
       "    </tr>\n",
       "  </tbody>\n",
       "</table>\n",
       "</div>"
      ],
      "text/plain": [
       "               country  child_mort  exports  health  imports   income  \\\n",
       "0          Afghanistan        90.2     55.0    42.0    248.0   1610.0   \n",
       "1              Albania        16.6   1145.0   268.0   1988.0   9930.0   \n",
       "2              Algeria        27.3   1713.0   186.0   1400.0  12900.0   \n",
       "3               Angola       119.0   2199.0   101.0   1514.0   5900.0   \n",
       "4  Antigua and Barbuda        10.3   5551.0   736.0   7186.0  19100.0   \n",
       "\n",
       "   inflation  life_expec  total_fer   gdpp  AHC_ClusterID  KMean_ClusterID  \n",
       "0       9.44        56.2       5.82    553              0                2  \n",
       "1       4.49        76.3       1.65   4090              1                0  \n",
       "2      16.10        76.5       2.89   4460              1                0  \n",
       "3      22.40        60.1       6.16   3530              0                2  \n",
       "4       1.44        76.8       2.13  12200              1                0  "
      ]
     },
     "execution_count": 58,
     "metadata": {},
     "output_type": "execute_result"
    }
   ],
   "source": [
    "data1['AHC_ClusterID']= pd.Series(labels_sc)\n",
    "data1.head()"
   ]
  },
  {
   "cell_type": "code",
   "execution_count": 59,
   "id": "cb6e6d15",
   "metadata": {},
   "outputs": [
    {
     "data": {
      "image/png": "[encoded data removed]",
      "text/plain": [
       "<Figure size 864x720 with 3 Axes>"
      ]
     },
     "metadata": {
      "needs_background": "light"
     },
     "output_type": "display_data"
    }
   ],
   "source": [
    "plt.figure(figsize=(12,10))\n",
    "plt.subplot(1,3,1)\n",
    "sns.scatterplot(x = 'gdpp', y = 'child_mort', data= data1, hue = 'KMean_ClusterID')\n",
    "plt.subplot(1,3,2)\n",
    "sns.scatterplot(x = 'income', y = 'child_mort', data= data1, hue = 'KMean_ClusterID')\n",
    "plt.subplot(1,3,3)\n",
    "sns.scatterplot(x = 'income', y = 'gdpp', data= data1, hue = 'KMean_ClusterID')\n",
    "plt.show()"
   ]
  },
  {
   "cell_type": "code",
   "execution_count": 60,
   "id": "a4862dc0",
   "metadata": {},
   "outputs": [
    {
     "data": {
      "image/png": "[encoded data removed]",
      "text/plain": [
       "<Figure size 864x720 with 3 Axes>"
      ]
     },
     "metadata": {
      "needs_background": "light"
     },
     "output_type": "display_data"
    }
   ],
   "source": [
    "plt.figure(figsize=(12,10))\n",
    "plt.subplot(1,3,1)\n",
    "sns.scatterplot(x = 'gdpp', y = 'child_mort', data= data1, hue = 'AHC_ClusterID')\n",
    "plt.subplot(1,3,2)\n",
    "sns.scatterplot(x = 'income', y = 'child_mort', data= data1, hue = 'AHC_ClusterID')\n",
    "plt.subplot(1,3,3)\n",
    "sns.scatterplot(x = 'income', y = 'gdpp', data= data1, hue = 'AHC_ClusterID')\n",
    "plt.show()"
   ]
  },
  {
   "cell_type": "code",
   "execution_count": 64,
   "id": "54c781d5",
   "metadata": {},
   "outputs": [
    {
     "data": {
      "image/png": "[encoded data removed]",
      "text/plain": [
       "<Figure size 1080x360 with 3 Axes>"
      ]
     },
     "metadata": {
      "needs_background": "light"
     },
     "output_type": "display_data"
    }
   ],
   "source": [
    "plt.figure(figsize=(15,5))\n",
    "plt.subplot(1,3,1)\n",
    "sns.barplot(x = 'KMean_ClusterID', y = 'gdpp', data= data1)\n",
    "plt.title('GDP Percapita')\n",
    "\n",
    "plt.subplot(1,3,2)\n",
    "sns.barplot(x = 'KMean_ClusterID', y = 'child_mort', data= data1)\n",
    "plt.title('Child Mortality Rate')\n",
    "\n",
    "plt.subplot(1,3,3)\n",
    "sns.barplot(x = 'KMean_ClusterID', y = 'income', data= data1)\n",
    "plt.title('Income Per Person')\n",
    "plt.show()"
   ]
  },
  {
   "cell_type": "code",
   "execution_count": 65,
   "id": "71a1523e",
   "metadata": {},
   "outputs": [
    {
     "data": {
      "image/png": "[encoded data removed]",
      "text/plain": [
       "<Figure size 1080x360 with 3 Axes>"
      ]
     },
     "metadata": {
      "needs_background": "light"
     },
     "output_type": "display_data"
    }
   ],
   "source": [
    "plt.figure(figsize=(15,5))\n",
    "plt.subplot(1,3,1)\n",
    "sns.barplot(x = 'AHC_ClusterID', y = 'gdpp', data= data1)\n",
    "plt.title('GDP Percapita')\n",
    "\n",
    "plt.subplot(1,3,2)\n",
    "sns.barplot(x = 'AHC_ClusterID', y = 'child_mort', data= data1)\n",
    "plt.title('Child Mortality Rate')\n",
    "\n",
    "plt.subplot(1,3,3)\n",
    "sns.barplot(x = 'AHC_ClusterID', y = 'income', data= data1)\n",
    "plt.title('Income Per Person')\n",
    "plt.show()"
   ]
  },
  {
   "cell_type": "code",
   "execution_count": 68,
   "id": "29b6502b",
   "metadata": {},
   "outputs": [
    {
     "data": {
      "text/plain": [
       "array(['Slovak Republic', 'Oman', 'Czech Republic', 'Bahrain', 'Malta',\n",
       "       'South Korea', 'Portugal', 'Slovenia', 'Greece', 'Bahamas',\n",
       "       'Israel', 'Spain', 'Cyprus', 'New Zealand', 'United Arab Emirates',\n",
       "       'Brunei', 'Italy', 'Kuwait', 'United Kingdom', 'France', 'Germany',\n",
       "       'Iceland', 'Belgium', 'Japan', 'Finland', 'Singapore', 'Austria',\n",
       "       'Canada', 'United States', 'Ireland', 'Netherlands', 'Australia',\n",
       "       'Sweden', 'Denmark', 'Qatar', 'Switzerland', 'Norway',\n",
       "       'Luxembourg'], dtype=object)"
      ]
     },
     "execution_count": 68,
     "metadata": {},
     "output_type": "execute_result"
    }
   ],
   "source": [
    "Underdeveloped_KMeancluster = data1[data1['KMean_ClusterID']== 1]\n",
    "Underdeveloped_countries  = Underdeveloped_KMeancluster.sort_values(by = ['gdpp','income','child_mort'],ascending=[True, True, False])\n",
    "\n",
    "Underdeveloped_countries['country'].values"
   ]
  },
  {
   "cell_type": "code",
   "execution_count": 70,
   "id": "5ff78877",
   "metadata": {},
   "outputs": [
    {
     "data": {
      "text/plain": [
       "array(['Nepal', 'Tajikistan', 'Bangladesh', 'Cambodia', 'Kyrgyz Republic',\n",
       "       'Myanmar', 'Vietnam', 'India', 'Uzbekistan', 'Moldova', 'Bolivia',\n",
       "       'Philippines', 'Bhutan', 'Egypt', 'Mongolia', 'Sri Lanka',\n",
       "       'Morocco', 'Guatemala', 'Micronesia, Fed. Sts.', 'Georgia',\n",
       "       'Vanuatu', 'Ukraine', 'El Salvador', 'Guyana', 'Indonesia',\n",
       "       'Armenia', 'Paraguay', 'Cape Verde', 'Samoa', 'Tonga', 'Fiji',\n",
       "       'Jordan', 'Albania', 'Tunisia', 'Belize', 'Turkmenistan',\n",
       "       'Algeria', 'Iraq', 'Macedonia, FYR', 'China',\n",
       "       'Bosnia and Herzegovina', 'Ecuador', 'Jamaica', 'Peru', 'Thailand',\n",
       "       'Serbia', 'Dominican Republic', 'Azerbaijan', 'Belarus',\n",
       "       'St. Vincent and the Grenadines', 'Colombia', 'Botswana', 'Iran',\n",
       "       'Montenegro', 'Bulgaria', 'Maldives', 'South Africa', 'Grenada',\n",
       "       'Mauritius', 'Panama', 'Costa Rica', 'Romania', 'Suriname',\n",
       "       'Lebanon', 'Kazakhstan', 'Malaysia', 'Argentina', 'Turkey',\n",
       "       'Russia', 'Seychelles', 'Brazil', 'Latvia', 'Uruguay', 'Lithuania',\n",
       "       'Libya', 'Antigua and Barbuda', 'Poland', 'Chile', 'Hungary',\n",
       "       'Venezuela', 'Croatia', 'Estonia', 'Barbados'], dtype=object)"
      ]
     },
     "execution_count": 70,
     "metadata": {},
     "output_type": "execute_result"
    }
   ],
   "source": [
    "Underdeveloped_AHCcluster = data1[data1['AHC_ClusterID']== 1]\n",
    "Underdevelopedcountry  = Underdeveloped_AHCcluster.sort_values(by = ['gdpp','income','child_mort'],ascending=[True, True, False])\n",
    "\n",
    "Underdevelopedcountry['country'].values"
   ]
  },
  {
   "cell_type": "markdown",
   "id": "d451b420",
   "metadata": {},
   "source": [
    "Agglomerative Hierarchical Clustering model is chosen as final model as per the above observations and the above mentioned are the countries that are in the  need of aid."
   ]
  }
 ],
 "metadata": {
  "kernelspec": {
   "display_name": "Python 3 (ipykernel)",
   "language": "python",
   "name": "python3"
  },
  "language_info": {
   "codemirror_mode": {
    "name": "ipython",
    "version": 3
   },
   "file_extension": ".py",
   "mimetype": "text/x-python",
   "name": "python",
   "nbconvert_exporter": "python",
   "pygments_lexer": "ipython3",
   "version": "3.9.7"
  }
 },
 "nbformat": 4,
 "nbformat_minor": 5
}
